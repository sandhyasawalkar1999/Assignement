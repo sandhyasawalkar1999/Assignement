{
 "cells": [
  {
   "cell_type": "code",
   "execution_count": 16,
   "id": "66f2e32b",
   "metadata": {},
   "outputs": [
    {
     "name": "stdout",
     "output_type": "stream",
     "text": [
      "testing\n"
     ]
    }
   ],
   "source": [
    "# 1. Write a program to read text file\n",
    "\n",
    "fileObject = open(\"sample.txt\", \"r\")\n",
    "data = fileObject.read()\n",
    "print(data)"
   ]
  },
  {
   "cell_type": "code",
   "execution_count": 17,
   "id": "92ead612",
   "metadata": {},
   "outputs": [
    {
     "name": "stdout",
     "output_type": "stream",
     "text": [
      "writing scucessfully completed\n"
     ]
    }
   ],
   "source": [
    "# 2. Write a program to write text to .txt file\n",
    "\n",
    "fileObject = open(\"sample.txt\", \"w\")\n",
    "str1 = 'Good Morning'\n",
    "fileObject.write(str1)\n",
    "print('writing scucessfully completed')"
   ]
  },
  {
   "cell_type": "code",
   "execution_count": 18,
   "id": "34a8fe34",
   "metadata": {},
   "outputs": [
    {
     "name": "stdout",
     "output_type": "stream",
     "text": [
      "Good Morning\n"
     ]
    }
   ],
   "source": [
    "# 3. Write a program to read file\n",
    "\n",
    "fileObject = open(\"sample.txt\", \"r\")\n",
    "data = fileObject.read()\n",
    "print(data)"
   ]
  },
  {
   "cell_type": "code",
   "execution_count": 23,
   "id": "39fca02b",
   "metadata": {},
   "outputs": [
    {
     "name": "stdout",
     "output_type": "stream",
     "text": [
      "Morning\n"
     ]
    }
   ],
   "source": [
    "# 5. Write a program to read a file a just to a particular index using seek()\n",
    "\n",
    "fileObject = open(\"sample.txt\", \"r\")\n",
    "fileObject.seek(5)\n",
    "data = fileObject.read()\n",
    "print(data)"
   ]
  },
  {
   "cell_type": "code",
   "execution_count": 28,
   "id": "8d308b91",
   "metadata": {},
   "outputs": [
    {
     "name": "stdout",
     "output_type": "stream",
     "text": [
      "True\n",
      "True\n",
      "True\n",
      "True\n"
     ]
    }
   ],
   "source": [
    "import os\n",
    "print(os.access('sample.txt', os.R_OK)) # Check for read access\n",
    "print(os.access('sample.txt', os.W_OK)) # Check for write access\n",
    "print(os.access('sample.txt', os.X_OK)) # Check for execution access\n",
    "print(os.access('sample.txt', os.F_OK)) # Check for existance of file"
   ]
  }
 ],
 "metadata": {
  "kernelspec": {
   "display_name": "Python 3",
   "language": "python",
   "name": "python3"
  },
  "language_info": {
   "codemirror_mode": {
    "name": "ipython",
    "version": 3
   },
   "file_extension": ".py",
   "mimetype": "text/x-python",
   "name": "python",
   "nbconvert_exporter": "python",
   "pygments_lexer": "ipython3",
   "version": "3.8.8"
  }
 },
 "nbformat": 4,
 "nbformat_minor": 5
}
