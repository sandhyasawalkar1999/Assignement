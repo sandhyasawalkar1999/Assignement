{
 "cells": [
  {
   "cell_type": "code",
   "execution_count": 14,
   "id": "8714b354",
   "metadata": {},
   "outputs": [
    {
     "name": "stdout",
     "output_type": "stream",
     "text": [
      "15\n"
     ]
    }
   ],
   "source": [
    "# 1. Write two methods with the same name but different number of parameters of same type and call the methods\n",
    "\n",
    "class test:\n",
    "    def add(self, a, b):\n",
    "        c = a + b\n",
    "        return c\n",
    "    def add(self, a, b, c):\n",
    "        d = a+b+c\n",
    "        return d\n",
    "t = test()\n",
    "# Uncommenting the below line shows an error    \n",
    "# sum1 = t.add(2,5) # Python does not support method overloading\n",
    "sum2 = t.add(2,5,8)\n",
    "# print(sum1)\n",
    "print(sum2)"
   ]
  },
  {
   "cell_type": "code",
   "execution_count": 17,
   "id": "4fcfc689",
   "metadata": {},
   "outputs": [
    {
     "name": "stdout",
     "output_type": "stream",
     "text": [
      "helloworldprogram\n",
      "15\n"
     ]
    }
   ],
   "source": [
    "# 2. Write two methods with the same name but different number of parameters of different data type and call the methods\n",
    "\n",
    "class test:\n",
    "    def add(self, a, b):\n",
    "        c = a + b\n",
    "        return c\n",
    "    def add(self, a, b, c):\n",
    "        d = a+b+c\n",
    "        return d\n",
    "t = test()\n",
    "# Uncommenting the below line shows an error    \n",
    "sum1 = t.add('hello','world','program') # Python does not support method overloading\n",
    "sum2 = t.add(2,5,8)\n",
    "print(sum1)\n",
    "print(sum2)"
   ]
  },
  {
   "cell_type": "code",
   "execution_count": 24,
   "id": "6567fc77",
   "metadata": {},
   "outputs": [
    {
     "name": "stdout",
     "output_type": "stream",
     "text": [
      "secound method call\n",
      "secound method call\n",
      "13\n",
      "7\n"
     ]
    }
   ],
   "source": [
    "# 3. Write two methods with the same name and same number of parameters of same type\n",
    "\n",
    "class test:\n",
    "    def add(self, a, b):\n",
    "        c = a + b\n",
    "        print('first method call')\n",
    "        return c\n",
    "    def add(self, a, b): # this method call\n",
    "        d = a + b\n",
    "        print('secound method call')\n",
    "        return d\n",
    "t = test()\n",
    "# Uncommenting the below line shows an error    \n",
    "sum1 = t.add(5,8) # Python does not support method overloading\n",
    "sum2 = t.add(2,5)\n",
    "print(sum1)\n",
    "print(sum2)"
   ]
  }
 ],
 "metadata": {
  "kernelspec": {
   "display_name": "Python 3",
   "language": "python",
   "name": "python3"
  },
  "language_info": {
   "codemirror_mode": {
    "name": "ipython",
    "version": 3
   },
   "file_extension": ".py",
   "mimetype": "text/x-python",
   "name": "python",
   "nbconvert_exporter": "python",
   "pygments_lexer": "ipython3",
   "version": "3.8.8"
  }
 },
 "nbformat": 4,
 "nbformat_minor": 5
}
