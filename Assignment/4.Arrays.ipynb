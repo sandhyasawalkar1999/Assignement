{
 "cells": [
  {
   "cell_type": "code",
   "execution_count": 26,
   "id": "e69fce09",
   "metadata": {},
   "outputs": [
    {
     "name": "stdout",
     "output_type": "stream",
     "text": [
      "array('i', [1, 2, 3, 4])\n"
     ]
    }
   ],
   "source": [
    "# 1. Write a function to add integer values of an array\n",
    "\n",
    "import array as arr  \n",
    "\n",
    "a = arr.array('i',[1,2,3,4])  \n",
    "\n",
    "num = int(input(\"Enter the value\"))\n",
    "a.append(num)\n",
    "print(a)"
   ]
  },
  {
   "cell_type": "code",
   "execution_count": 28,
   "id": "9b00ee20",
   "metadata": {},
   "outputs": [
    {
     "name": "stdout",
     "output_type": "stream",
     "text": [
      "2.5\n"
     ]
    }
   ],
   "source": [
    "# 2. Write a function to calculate the average value of an array of integers\n",
    "\n",
    "import array as arr  \n",
    "\n",
    "a = arr.array('i',[1,2,3,4]) \n",
    "\n",
    "avg = sum(a)/len(a)\n",
    "print(avg)"
   ]
  },
  {
   "cell_type": "code",
   "execution_count": 31,
   "id": "4258a721",
   "metadata": {},
   "outputs": [
    {
     "name": "stdout",
     "output_type": "stream",
     "text": [
      "Enter the number to find index 2\n",
      "1\n"
     ]
    }
   ],
   "source": [
    "# 3. Write a program to find the index of an array element\n",
    "\n",
    "import array as arr  \n",
    "\n",
    "a = arr.array('i',[1,2,3,4]) \n",
    "\n",
    "num = int(input(\"Enter the number to find index \"))\n",
    "print(a.index(num))"
   ]
  },
  {
   "cell_type": "code",
   "execution_count": 34,
   "id": "658c6b99",
   "metadata": {},
   "outputs": [
    {
     "name": "stdout",
     "output_type": "stream",
     "text": [
      "Enter the number to find number exist in array or not 10\n",
      "10 not exist in array\n"
     ]
    }
   ],
   "source": [
    "# 4. Write a function to test if array contains a specific value\n",
    "\n",
    "import array as arr  \n",
    "\n",
    "a = arr.array('i',[1,2,3,4]) \n",
    "\n",
    "num = int(input(\"Enter the number to find number exist in array or not \"))\n",
    "if num in a:\n",
    "    print(num,\"exist in array\")\n",
    "else:\n",
    "    print(num,\"not exist in array\")"
   ]
  },
  {
   "cell_type": "code",
   "execution_count": 35,
   "id": "c4ca2ad8",
   "metadata": {},
   "outputs": [
    {
     "name": "stdout",
     "output_type": "stream",
     "text": [
      "Enter the number to remove element 2\n",
      "array('i', [1, 3, 4])\n"
     ]
    }
   ],
   "source": [
    "# 5. Write a function to remove a specific element from an array\n",
    "\n",
    "import array as arr  \n",
    "\n",
    "a = arr.array('i',[1,2,3,4]) \n",
    "\n",
    "num = int(input(\"Enter the number to remove element \"))\n",
    "if num in a:\n",
    "    a.remove(num)\n",
    "    print(a)\n",
    "else:\n",
    "    print(\"Given element not exist in array\")"
   ]
  },
  {
   "cell_type": "code",
   "execution_count": 1,
   "id": "2f89c258",
   "metadata": {},
   "outputs": [
    {
     "name": "stdout",
     "output_type": "stream",
     "text": [
      "1693727165200\n",
      "1693727165488\n",
      "[2 7 9 4]\n",
      "[2 6 9 4]\n"
     ]
    }
   ],
   "source": [
    "# 6. Write a function to copy an array to another array\n",
    "\n",
    "from numpy import *                 \n",
    "\n",
    "arr1 = array([2, 6, 9, 4])\n",
    "print(id(arr1))\n",
    "arr2 = arr1.copy()\n",
    "print(id(arr2))\n",
    "arr1[1] = 7                       \n",
    "  \n",
    "print(arr1)\n",
    "print(arr2)"
   ]
  },
  {
   "cell_type": "code",
   "execution_count": 2,
   "id": "756a7b6f",
   "metadata": {},
   "outputs": [
    {
     "name": "stdout",
     "output_type": "stream",
     "text": [
      "Enter the number to find index 10\n",
      "array('i', [1, 2, 10, 3, 4])\n"
     ]
    }
   ],
   "source": [
    "# 7. Write a function to insert an element at a specific position in the array\n",
    "\n",
    "import array as arr  \n",
    "\n",
    "a = arr.array('i',[1,2,3,4]) \n",
    "\n",
    "num = int(input(\"Enter the number to find index \"))\n",
    "a.insert(2,num)\n",
    "print(a)"
   ]
  },
  {
   "cell_type": "code",
   "execution_count": 6,
   "id": "4d47e49c",
   "metadata": {},
   "outputs": [
    {
     "name": "stdout",
     "output_type": "stream",
     "text": [
      "minimum value of array : 1\n",
      "maximum value of array : 4\n"
     ]
    }
   ],
   "source": [
    "# 8. Write a function to find the minimum and maximum value of an array\n",
    "\n",
    "import array as arr  \n",
    "\n",
    "a = arr.array('i',[1,2,3,4]) \n",
    "\n",
    "mi = min(a)\n",
    "ma = max(a)\n",
    "print(\"minimum value of array :\",mi)\n",
    "print(\"maximum value of array :\",ma)"
   ]
  },
  {
   "cell_type": "code",
   "execution_count": 22,
   "id": "651801ab",
   "metadata": {},
   "outputs": [
    {
     "name": "stdout",
     "output_type": "stream",
     "text": [
      "Before reversing array array('i', [1, 5, 3, 4])\n",
      "After reversing array array('i', [4, 3, 5, 1])\n"
     ]
    }
   ],
   "source": [
    "# 9. Write a function to reverse an array of integer values\n",
    "\n",
    "import array as arr  \n",
    "\n",
    "a = arr.array('i',[1,2,3,4])\n",
    "print(\"Before reversing array\",a)\n",
    "rev = reverse(a)\n",
    "print(\"After reversing array\",a)\n"
   ]
  },
  {
   "cell_type": "code",
   "execution_count": 24,
   "id": "c2831746",
   "metadata": {},
   "outputs": [
    {
     "name": "stdout",
     "output_type": "stream",
     "text": [
      "Duplicate elements in given array: \n",
      "2\n",
      "6\n"
     ]
    }
   ],
   "source": [
    "# 10. Write a function to find the duplicate values of an array\n",
    "\n",
    "import array as arr  \n",
    "\n",
    "a = arr.array('i',[1,2,2,6,3,4,5,6])\n",
    "print(\"Duplicate elements in given array: \");  \n",
    "#Searches for duplicate element  \n",
    "for i in range(0, len(a)):  \n",
    "    for j in range(i+1, len(a)):  \n",
    "        if(a[i] == a[j]):  \n",
    "            print(a[j]); "
   ]
  },
  {
   "cell_type": "code",
   "execution_count": 28,
   "id": "59ab1a56",
   "metadata": {},
   "outputs": [
    {
     "name": "stdout",
     "output_type": "stream",
     "text": [
      "[3 4]\n"
     ]
    }
   ],
   "source": [
    "# 11. Write a program to find the common values between two arrays\n",
    "\n",
    "import numpy as np\n",
    "\n",
    "a = np.array([1,2,3,4])\n",
    "b = np.array([3,4,5,6])\n",
    "print(np.intersect1d(a, b))"
   ]
  },
  {
   "cell_type": "code",
   "execution_count": 35,
   "id": "1060de10",
   "metadata": {},
   "outputs": [
    {
     "name": "stdout",
     "output_type": "stream",
     "text": [
      "Before remove duplicate array('i', [1, 2, 2, 6, 3, 4, 5, 6])\n",
      "Ater remove duplicate array('i', [1, 2, 3, 4, 5, 6])\n"
     ]
    }
   ],
   "source": [
    "# 12. Write a method to remove duplicate elements from an array\n",
    "\n",
    "import array as arr  \n",
    "\n",
    "a = arr.array('i',[1,2,2,6,3,4,5,6])\n",
    "print(\"Before remove duplicate\",a)\n",
    "dup = set(a)\n",
    "a = arr.array('i',dup)\n",
    "print(\"Ater remove duplicate\",a)"
   ]
  },
  {
   "cell_type": "code",
   "execution_count": 44,
   "id": "6d3f4fe6",
   "metadata": {},
   "outputs": [
    {
     "name": "stdout",
     "output_type": "stream",
     "text": [
      "array('i', [1, 2, 3, 4, 5, 6, 7, 8])\n",
      "even number\n",
      "2\n",
      "4\n",
      "6\n",
      "8\n",
      "odd number\n",
      "1\n",
      "3\n",
      "5\n",
      "7\n"
     ]
    }
   ],
   "source": [
    "# 13. Write a method to find number of even number and odd numbers in an array\n",
    "\n",
    "import array as arr  \n",
    "\n",
    "a = arr.array('i',[1,2,3,4,5,6,7,8])\n",
    "\n",
    "print(a)\n",
    "print(\"even number\")\n",
    "for i in a:\n",
    "    if i%2==0:\n",
    "        print(i)\n",
    "print(\"odd number\")\n",
    "for i in a:\n",
    "    if i%2!=0:\n",
    "        print(i)"
   ]
  }
 ],
 "metadata": {
  "kernelspec": {
   "display_name": "Python 3",
   "language": "python",
   "name": "python3"
  },
  "language_info": {
   "codemirror_mode": {
    "name": "ipython",
    "version": 3
   },
   "file_extension": ".py",
   "mimetype": "text/x-python",
   "name": "python",
   "nbconvert_exporter": "python",
   "pygments_lexer": "ipython3",
   "version": "3.8.8"
  }
 },
 "nbformat": 4,
 "nbformat_minor": 5
}
