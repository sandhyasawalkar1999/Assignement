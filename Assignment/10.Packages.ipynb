{
 "cells": [
  {
   "cell_type": "code",
   "execution_count": null,
   "id": "3ddc4c42",
   "metadata": {},
   "outputs": [],
   "source": [
    "# Audi.py \n",
    "\n",
    "class Audi:\n",
    "    def __init__(self):\n",
    "        self.models = ['q7', 'a6', 'a8', 'a3']\n",
    "   \n",
    "    def outModels(self):\n",
    "        print('These are the available models for Audi')\n",
    "        for model in self.models:\n",
    "            print('\\t%s ' % model)"
   ]
  },
  {
   "cell_type": "code",
   "execution_count": null,
   "id": "4725103d",
   "metadata": {},
   "outputs": [],
   "source": [
    "# Bmw.py\n",
    "\n",
    "class Bmw:\n",
    "    def __init__(self):\n",
    "        self.models = ['i8', 'x1', 'x5', 'x6']\n",
    "   \n",
    "    def outModels(self):\n",
    "        print('These are the available models for BMW')\n",
    "        for model in self.models:\n",
    "            print('\\t%s ' % model)"
   ]
  },
  {
   "cell_type": "code",
   "execution_count": 14,
   "id": "9ceb307f",
   "metadata": {},
   "outputs": [
    {
     "name": "stdout",
     "output_type": "stream",
     "text": [
      "These are the available models for BMW\n",
      "\ti8 \n",
      "\tx1 \n",
      "\tx5 \n",
      "\tx6 \n"
     ]
    }
   ],
   "source": [
    "''' 1. Create a program to create two class.\n",
    "    1.1. Create a constructor and a method for each class\n",
    "    1.2. Create a __init__.py for adding all packages\n",
    "    1.3. Import the respective packages\n",
    "    1.4. Call each class by creating an object to it\n",
    "    1.5. Create a program by all the above '''\n",
    "\n",
    "\n",
    "from Bmw import Bmw\n",
    "from Bmw import Audi\n",
    "   \n",
    "# Create an object of Bmw class & call its method\n",
    "obj1 = Bmw()\n",
    "obj1.outModels()\n",
    "   \n",
    "# Create an object of Audi class & call its method\n",
    "ModAudi = Audi()\n",
    "ModAudi.outModels()"
   ]
  },
  {
   "cell_type": "code",
   "execution_count": null,
   "id": "d5b1302e",
   "metadata": {},
   "outputs": [],
   "source": []
  }
 ],
 "metadata": {
  "kernelspec": {
   "display_name": "Python 3",
   "language": "python",
   "name": "python3"
  },
  "language_info": {
   "codemirror_mode": {
    "name": "ipython",
    "version": 3
   },
   "file_extension": ".py",
   "mimetype": "text/x-python",
   "name": "python",
   "nbconvert_exporter": "python",
   "pygments_lexer": "ipython3",
   "version": "3.8.8"
  }
 },
 "nbformat": 4,
 "nbformat_minor": 5
}
