{
 "cells": [
  {
   "cell_type": "code",
   "execution_count": null,
   "id": "2cb18541",
   "metadata": {},
   "outputs": [],
   "source": [
    "''' A, B and C are classes\n",
    "\n",
    "    A is a super class. B is a sub class of A. C is a sub class of B.\n",
    "    \n",
    "    Create three methods in each class, 2 methods are specific to each class and third method \n",
    "    (override method) should be in all three Classes A, B and C\n",
    "    \n",
    "    Create a class with main method. Create an object for each class A, B and C in main method \n",
    "    and call every method of each class using its own object/instance.\n",
    "    \n",
    "    Call an overridden method with super class reference to B and C class’s objects \n",
    "    \n",
    "    Runtime Polymorphism with Data Members/Instance variables, Repeat the above process only for data members '''"
   ]
  },
  {
   "cell_type": "code",
   "execution_count": 24,
   "id": "b86653bd",
   "metadata": {},
   "outputs": [
    {
     "name": "stdout",
     "output_type": "stream",
     "text": [
      "I am A1 method\n",
      "I am A2 method\n",
      "I am X1 method of A class\n",
      "I am B1 method\n",
      "I am B2 method\n",
      "I am X1 method of B class\n",
      "I am C1 method\n",
      "I am C2 method\n",
      "I am X1 method of C class\n"
     ]
    }
   ],
   "source": [
    "class A:\n",
    "    def A1(self):\n",
    "        return 'I am A1 method'\n",
    "    def A2(self):\n",
    "        return 'I am A2 method'\n",
    "    def X1(self):\n",
    "        return 'I am X1 method of A class'\n",
    "class B(A):\n",
    "    def B1(self):\n",
    "        return 'I am B1 method'\n",
    "    def B2(self):\n",
    "        return 'I am B2 method'\n",
    "    def X1(self):\n",
    "        A.X1(self)\n",
    "        return 'I am X1 method of B class'\n",
    "class C(B):\n",
    "    def C1(self):\n",
    "        return 'I am C1 method'\n",
    "    def C2(self):\n",
    "        return 'I am C2 method'\n",
    "    def X1(self):\n",
    "        B.X1(self)\n",
    "        return 'I am X1 method of C class'\n",
    "    \n",
    "if __name__ == \"__main__\":\n",
    "    \n",
    "    objA = A()\n",
    "    objB = B()\n",
    "    objC = C()\n",
    "    \n",
    "    print(objA.A1())\n",
    "    print(objA.A2())\n",
    "    print(objA.X1())\n",
    "    \n",
    "    print(objB.B1())\n",
    "    print(objB.B2())\n",
    "    print(objB.X1())\n",
    "    \n",
    "    print(objC.C1())\n",
    "    print(objC.C2())\n",
    "    print(objC.X1())"
   ]
  },
  {
   "cell_type": "code",
   "execution_count": 25,
   "id": "b6f4bd97",
   "metadata": {},
   "outputs": [
    {
     "name": "stdout",
     "output_type": "stream",
     "text": [
      "I am calling from sub class\n"
     ]
    }
   ],
   "source": [
    "#  Call an overridden method with super class reference to B and C class’s objects \n",
    "\n",
    "class A:\n",
    "    def A1(self):\n",
    "        return 'I am A1 method'\n",
    "    def A2(self):\n",
    "        return 'I am A2 method'\n",
    "    def X1(self):\n",
    "        print('I am calling from sub class')\n",
    "        return 'I am X1 method of A class'\n",
    "class B(A):\n",
    "    def B1(self):\n",
    "        return 'I am B1 method'\n",
    "    def B2(self):\n",
    "        return 'I am B2 method'\n",
    "    def X1(self):\n",
    "        A.X1(self)\n",
    "        return 'I am X1 method of B class'\n",
    "class C(B):\n",
    "    def C1(self):\n",
    "        return 'I am C1 method'\n",
    "    def C2(self):\n",
    "        return 'I am C2 method'\n",
    "    def X1(self):\n",
    "        B.X1(self)\n",
    "        return 'I am X1 method of C class'\n",
    "    \n",
    "if __name__ == \"__main__\":\n",
    "    objC = C()\n",
    "    objC.X1()"
   ]
  },
  {
   "cell_type": "code",
   "execution_count": null,
   "id": "2ee516e4",
   "metadata": {},
   "outputs": [],
   "source": []
  }
 ],
 "metadata": {
  "kernelspec": {
   "display_name": "Python 3",
   "language": "python",
   "name": "python3"
  },
  "language_info": {
   "codemirror_mode": {
    "name": "ipython",
    "version": 3
   },
   "file_extension": ".py",
   "mimetype": "text/x-python",
   "name": "python",
   "nbconvert_exporter": "python",
   "pygments_lexer": "ipython3",
   "version": "3.8.8"
  }
 },
 "nbformat": 4,
 "nbformat_minor": 5
}
