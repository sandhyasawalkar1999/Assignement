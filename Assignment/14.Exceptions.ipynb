{
 "cells": [
  {
   "cell_type": "code",
   "execution_count": 1,
   "id": "9d07294d",
   "metadata": {},
   "outputs": [
    {
     "name": "stdout",
     "output_type": "stream",
     "text": [
      "Enter a:5\n",
      "Enter b:0\n"
     ]
    },
    {
     "ename": "ZeroDivisionError",
     "evalue": "division by zero",
     "output_type": "error",
     "traceback": [
      "\u001b[1;31m---------------------------------------------------------------------------\u001b[0m",
      "\u001b[1;31mZeroDivisionError\u001b[0m                         Traceback (most recent call last)",
      "\u001b[1;32m<ipython-input-1-5324ec2bca5d>\u001b[0m in \u001b[0;36m<module>\u001b[1;34m\u001b[0m\n\u001b[0;32m      2\u001b[0m \u001b[0ma\u001b[0m \u001b[1;33m=\u001b[0m \u001b[0mint\u001b[0m\u001b[1;33m(\u001b[0m\u001b[0minput\u001b[0m\u001b[1;33m(\u001b[0m\u001b[1;34m\"Enter a:\"\u001b[0m\u001b[1;33m)\u001b[0m\u001b[1;33m)\u001b[0m\u001b[1;33m\u001b[0m\u001b[1;33m\u001b[0m\u001b[0m\n\u001b[0;32m      3\u001b[0m \u001b[0mb\u001b[0m \u001b[1;33m=\u001b[0m \u001b[0mint\u001b[0m\u001b[1;33m(\u001b[0m\u001b[0minput\u001b[0m\u001b[1;33m(\u001b[0m\u001b[1;34m\"Enter b:\"\u001b[0m\u001b[1;33m)\u001b[0m\u001b[1;33m)\u001b[0m\u001b[1;33m\u001b[0m\u001b[1;33m\u001b[0m\u001b[0m\n\u001b[1;32m----> 4\u001b[1;33m \u001b[0mc\u001b[0m \u001b[1;33m=\u001b[0m \u001b[0ma\u001b[0m\u001b[1;33m/\u001b[0m\u001b[0mb\u001b[0m\u001b[1;33m\u001b[0m\u001b[1;33m\u001b[0m\u001b[0m\n\u001b[0m\u001b[0;32m      5\u001b[0m \u001b[0mprint\u001b[0m\u001b[1;33m(\u001b[0m\u001b[1;34mf\"a/b = {c}\"\u001b[0m\u001b[1;33m)\u001b[0m\u001b[1;33m\u001b[0m\u001b[1;33m\u001b[0m\u001b[0m\n",
      "\u001b[1;31mZeroDivisionError\u001b[0m: division by zero"
     ]
    }
   ],
   "source": [
    "# 1. Write a program to generate Arithmetic Exception without exception handling\n",
    "\n",
    "a = int(input(\"Enter a:\"))    \n",
    "b = int(input(\"Enter b:\"))    \n",
    "c = a/b  \n",
    "print(f\"a/b = {c}\")  "
   ]
  },
  {
   "cell_type": "code",
   "execution_count": 2,
   "id": "85bf533c",
   "metadata": {
    "scrolled": true
   },
   "outputs": [
    {
     "name": "stdout",
     "output_type": "stream",
     "text": [
      "Enter a:5\n",
      "Enter b:0\n",
      "Can't divide with zero\n"
     ]
    }
   ],
   "source": [
    "# 2. Handle the Arithmetic exception using try-catch block\n",
    "\n",
    "try:  \n",
    "    a = int(input(\"Enter a:\"))    \n",
    "    b = int(input(\"Enter b:\"))    \n",
    "    c = a/b  \n",
    "except:  \n",
    "    print(\"Can't divide with zero\")"
   ]
  },
  {
   "cell_type": "code",
   "execution_count": 9,
   "id": "24b2d2e3",
   "metadata": {},
   "outputs": [
    {
     "name": "stdout",
     "output_type": "stream",
     "text": [
      "Enter a:5\n",
      "Enter b:'5'\n",
      "You added values of incompatible types invalid literal for int() with base 10: \"'5'\"\n"
     ]
    }
   ],
   "source": [
    "# 4. Write a program with multiple catch blocks\n",
    "try:\n",
    "    a = int(input(\"Enter a:\"))    \n",
    "    b = int(input(\"Enter b:\"))  \n",
    "    c = a/b\n",
    "except Exception as e:\n",
    "    print(\"You added values of incompatible types\",e)\n",
    "except ZeroDivisionError:\n",
    "    print(\"You divided by 0\")\n"
   ]
  },
  {
   "cell_type": "code",
   "execution_count": 10,
   "id": "f50134dc",
   "metadata": {},
   "outputs": [
    {
     "name": "stdout",
     "output_type": "stream",
     "text": [
      "Enter a:5\n",
      "Enter b:0\n",
      "You divided by 0\n"
     ]
    }
   ],
   "source": [
    "# 5. Write a program to throw exception with your own message\n",
    "try:\n",
    "    a = int(input(\"Enter a:\"))    \n",
    "    b = int(input(\"Enter b:\"))  \n",
    "    c = a/b\n",
    "except ZeroDivisionError:\n",
    "    print(\"You divided by 0\")"
   ]
  },
  {
   "cell_type": "code",
   "execution_count": 11,
   "id": "88e1d151",
   "metadata": {},
   "outputs": [
    {
     "name": "stdout",
     "output_type": "stream",
     "text": [
      "An exception flew by!\n"
     ]
    },
    {
     "ename": "NameError",
     "evalue": "HiThere",
     "output_type": "error",
     "traceback": [
      "\u001b[1;31m---------------------------------------------------------------------------\u001b[0m",
      "\u001b[1;31mNameError\u001b[0m                                 Traceback (most recent call last)",
      "\u001b[1;32m<ipython-input-11-bf6ef4926f8c>\u001b[0m in \u001b[0;36m<module>\u001b[1;34m\u001b[0m\n\u001b[0;32m      1\u001b[0m \u001b[1;32mtry\u001b[0m\u001b[1;33m:\u001b[0m\u001b[1;33m\u001b[0m\u001b[1;33m\u001b[0m\u001b[0m\n\u001b[1;32m----> 2\u001b[1;33m     \u001b[1;32mraise\u001b[0m \u001b[0mNameError\u001b[0m\u001b[1;33m(\u001b[0m\u001b[1;34m'HiThere'\u001b[0m\u001b[1;33m)\u001b[0m\u001b[1;33m\u001b[0m\u001b[1;33m\u001b[0m\u001b[0m\n\u001b[0m\u001b[0;32m      3\u001b[0m \u001b[1;32mexcept\u001b[0m \u001b[0mNameError\u001b[0m\u001b[1;33m:\u001b[0m\u001b[1;33m\u001b[0m\u001b[1;33m\u001b[0m\u001b[0m\n\u001b[0;32m      4\u001b[0m     \u001b[0mprint\u001b[0m\u001b[1;33m(\u001b[0m\u001b[1;34m'An exception flew by!'\u001b[0m\u001b[1;33m)\u001b[0m\u001b[1;33m\u001b[0m\u001b[1;33m\u001b[0m\u001b[0m\n\u001b[0;32m      5\u001b[0m     \u001b[1;32mraise\u001b[0m\u001b[1;33m\u001b[0m\u001b[1;33m\u001b[0m\u001b[0m\n",
      "\u001b[1;31mNameError\u001b[0m: HiThere"
     ]
    }
   ],
   "source": [
    "try:\n",
    "    raise NameError('HiThere')\n",
    "except NameError:\n",
    "    print('An exception flew by!')\n",
    "    raise"
   ]
  },
  {
   "cell_type": "code",
   "execution_count": 12,
   "id": "0dd696c1",
   "metadata": {},
   "outputs": [
    {
     "name": "stdout",
     "output_type": "stream",
     "text": [
      "Enter a:5\n",
      "Enter b:0\n",
      "You divided by 0\n",
      "I am always execute\n"
     ]
    }
   ],
   "source": [
    "# 7. Write a program with finally block\n",
    "try:\n",
    "    a = int(input(\"Enter a:\"))    \n",
    "    b = int(input(\"Enter b:\"))  \n",
    "    c = a/b\n",
    "except ZeroDivisionError:\n",
    "    print(\"You divided by 0\")\n",
    "finally:\n",
    "    print('I am always execute')"
   ]
  },
  {
   "cell_type": "code",
   "execution_count": 13,
   "id": "9eba9033",
   "metadata": {},
   "outputs": [
    {
     "name": "stdout",
     "output_type": "stream",
     "text": [
      "This statement is raising an arithmetic exception.\n"
     ]
    }
   ],
   "source": [
    "# 8. Write a program to generate Arithmetic Exception\n",
    "try:\n",
    "    a = 10/0\n",
    "    print (a)\n",
    "except ArithmeticError:\n",
    "    print (\"This statement is raising an arithmetic exception.\")\n",
    "else:\n",
    "    print (\"Success.\")\n"
   ]
  },
  {
   "cell_type": "code",
   "execution_count": 15,
   "id": "e8b8b2a3",
   "metadata": {},
   "outputs": [
    {
     "name": "stdout",
     "output_type": "stream",
     "text": [
      "File does not exist\n"
     ]
    }
   ],
   "source": [
    "# 9. Write a program to generate FileNotFoundException\n",
    "try:\n",
    "    #trying to open a file in read mode\n",
    "    fo = open(\"myfile.txt\",\"rt\")\n",
    "    print(\"File opened\")\n",
    "except FileNotFoundError:\n",
    "    print(\"File does not exist\")\n",
    "except:\n",
    "    print(\"Other error\")"
   ]
  }
 ],
 "metadata": {
  "kernelspec": {
   "display_name": "Python 3",
   "language": "python",
   "name": "python3"
  },
  "language_info": {
   "codemirror_mode": {
    "name": "ipython",
    "version": 3
   },
   "file_extension": ".py",
   "mimetype": "text/x-python",
   "name": "python",
   "nbconvert_exporter": "python",
   "pygments_lexer": "ipython3",
   "version": "3.8.8"
  }
 },
 "nbformat": 4,
 "nbformat_minor": 5
}
