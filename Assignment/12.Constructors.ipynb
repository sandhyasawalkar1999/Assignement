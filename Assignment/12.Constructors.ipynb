{
 "cells": [
  {
   "cell_type": "code",
   "execution_count": 4,
   "id": "8dcbda71",
   "metadata": {},
   "outputs": [
    {
     "name": "stdout",
     "output_type": "stream",
     "text": [
      "two argument constructors\n",
      "name :vijaya\n",
      "age :24\n"
     ]
    }
   ],
   "source": [
    "# 1. Write a class with a default constructor, one argument constructor and two argument constructors. \n",
    "# Instantiate the class to call all the constructors of that class from a main class \n",
    "\n",
    "class Test:\n",
    "    def __init__(self):\n",
    "        print('default constructor')\n",
    "    def __init__(self,name):\n",
    "        name = self.name\n",
    "        print('one argument constructor') # Constructor can not overload in python\n",
    "        print(f'name :{name}')\n",
    "    def __init__(self,name,age):\n",
    "        self.name = name \n",
    "        self.age = age \n",
    "        print('two argument constructors')\n",
    "        print(f'name :{name}')\n",
    "        print(f'age :{age}')\n",
    "# t1 = Test() # Error\n",
    "# t2 = Test('vijaya') # Error\n",
    "t3 = Test('vijaya', 24)\n"
   ]
  },
  {
   "cell_type": "code",
   "execution_count": 5,
   "id": "4059c025",
   "metadata": {},
   "outputs": [
    {
     "name": "stdout",
     "output_type": "stream",
     "text": [
      "[1, 2, 3, 4, 5]\n"
     ]
    }
   ],
   "source": [
    "# 2. Call the constructors(both default and argument constructors) of super class from a child class\n",
    "\n",
    "class Class():\n",
    "    def __init__(self, x):\n",
    "        print(x)\n",
    "        \n",
    "class SubClass(Class):\n",
    "    def __init__(self, x):\n",
    "        # class's constructor\n",
    "        super().__init__(x)\n",
    "  \n",
    "x = [1, 2, 3, 4, 5]\n",
    "a = SubClass(x)"
   ]
  },
  {
   "cell_type": "code",
   "execution_count": 6,
   "id": "50b98c48",
   "metadata": {},
   "outputs": [
    {
     "name": "stdout",
     "output_type": "stream",
     "text": [
      "Public Data Member:  Hello\n",
      "Protected Data Member:  4\n",
      "Private Data Member:  Python\n",
      "Object is accessing protected member: 4\n"
     ]
    }
   ],
   "source": [
    "# 3. Apply private, public, protected and default access modifiers to the constructor\n",
    "\n",
    "class Super:\n",
    "     # public data member\n",
    "     var1 = None\n",
    " \n",
    "     # protected data member\n",
    "     _var2 = None\n",
    "      \n",
    "     # private data member\n",
    "     __var3 = None\n",
    "     \n",
    "     # constructor\n",
    "     def __init__(self, var1, var2, var3): \n",
    "          self.var1 = var1\n",
    "          self._var2 = var2\n",
    "          self.__var3 = var3\n",
    "     \n",
    "    # public member function  \n",
    "     def displayPublicMembers(self):\n",
    "            \n",
    "          # accessing public data members\n",
    "          print(\"Public Data Member: \", self.var1)\n",
    "        \n",
    "     # protected member function  \n",
    "     def _displayProtectedMembers(self):\n",
    "  \n",
    "          # accessing protected data members\n",
    "          print(\"Protected Data Member: \", self._var2)\n",
    "      \n",
    "     # private member function  \n",
    "     def __displayPrivateMembers(self):\n",
    "  \n",
    "          # accessing private data members\n",
    "          print(\"Private Data Member: \", self.__var3)\n",
    " \n",
    "     # public member function\n",
    "     def accessPrivateMembers(self):    \n",
    "           \n",
    "          # accessing private member function\n",
    "          self.__displayPrivateMembers()\n",
    "  \n",
    "# derived class\n",
    "class Sub(Super):\n",
    "  \n",
    "      # constructor\n",
    "       def __init__(self, var1, var2, var3):\n",
    "                Super.__init__(self, var1, var2, var3)\n",
    "           \n",
    "      # public member function\n",
    "       def accessProtectedMembers(self):\n",
    "                 \n",
    "                # accessing protected member functions of super class\n",
    "                self._displayProtectedMembers()\n",
    "  \n",
    "# creating objects of the derived class    \n",
    "obj = Sub(\"Hello\", 4, \"Python\")\n",
    " \n",
    "# calling public member functions of the class\n",
    "obj.displayPublicMembers()\n",
    "obj.accessProtectedMembers()\n",
    "obj.accessPrivateMembers()\n",
    " \n",
    "# Object can access protected member\n",
    "print(\"Object is accessing protected member:\", obj._var2)\n",
    " \n",
    "# object can not access private member, so it will generate Attribute error\n",
    "#print(obj.__var3)"
   ]
  }
 ],
 "metadata": {
  "kernelspec": {
   "display_name": "Python 3",
   "language": "python",
   "name": "python3"
  },
  "language_info": {
   "codemirror_mode": {
    "name": "ipython",
    "version": 3
   },
   "file_extension": ".py",
   "mimetype": "text/x-python",
   "name": "python",
   "nbconvert_exporter": "python",
   "pygments_lexer": "ipython3",
   "version": "3.8.8"
  }
 },
 "nbformat": 4,
 "nbformat_minor": 5
}
