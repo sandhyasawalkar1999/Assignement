{
 "cells": [
  {
   "cell_type": "code",
   "execution_count": 2,
   "id": "5fac7fd9",
   "metadata": {},
   "outputs": [
    {
     "name": "stdout",
     "output_type": "stream",
     "text": [
      "Hello\n",
      "Hello\n",
      "Hello\n",
      "Hello, welcome to\n",
      "           the world of Python\n"
     ]
    }
   ],
   "source": [
    "# 1. Different ways creating a string\n",
    "\n",
    "my_string = 'Hello'\n",
    "print(my_string)\n",
    "\n",
    "my_string = \"Hello\"\n",
    "print(my_string)\n",
    "\n",
    "my_string = '''Hello'''\n",
    "print(my_string)\n",
    "\n",
    "# triple quotes string can extend multiple lines\n",
    "my_string = \"\"\"Hello, welcome to\n",
    "           the world of Python\"\"\"\n",
    "print(my_string)"
   ]
  },
  {
   "cell_type": "code",
   "execution_count": 3,
   "id": "367f9885",
   "metadata": {},
   "outputs": [
    {
     "name": "stdout",
     "output_type": "stream",
     "text": [
      "Good Morning\n"
     ]
    }
   ],
   "source": [
    "# 2. Concatenating two strings using + operator\n",
    "\n",
    "str1 = 'Good '\n",
    "str2 = 'Morning'\n",
    "print(str1+str2)"
   ]
  },
  {
   "cell_type": "code",
   "execution_count": 4,
   "id": "4f41ef41",
   "metadata": {},
   "outputs": [
    {
     "name": "stdout",
     "output_type": "stream",
     "text": [
      "5\n"
     ]
    }
   ],
   "source": [
    "# 3. Finding the length of the string\n",
    "\n",
    "str1 = 'Hello'\n",
    "print(len(str1))"
   ]
  },
  {
   "cell_type": "code",
   "execution_count": 5,
   "id": "594a845c",
   "metadata": {},
   "outputs": [
    {
     "name": "stdout",
     "output_type": "stream",
     "text": [
      "world\n"
     ]
    }
   ],
   "source": [
    "# 4. Extract a string using Substring\n",
    "\n",
    "str1 = 'Hello world'\n",
    "print(str1[6:])"
   ]
  },
  {
   "cell_type": "code",
   "execution_count": 6,
   "id": "a6fcae5e",
   "metadata": {},
   "outputs": [
    {
     "name": "stdout",
     "output_type": "stream",
     "text": [
      "6\n"
     ]
    }
   ],
   "source": [
    "# 5. Searching in strings using index()\n",
    "\n",
    "str1 = 'Hello world'\n",
    "print(str1.index('world'))"
   ]
  },
  {
   "cell_type": "code",
   "execution_count": 7,
   "id": "73c4586b",
   "metadata": {},
   "outputs": [
    {
     "name": "stdout",
     "output_type": "stream",
     "text": [
      "False\n"
     ]
    }
   ],
   "source": [
    "# 7. Comparing strings\n",
    "\n",
    "str1 = 'hello'\n",
    "str2 = 'Hello'\n",
    "print(str1 == str2)"
   ]
  },
  {
   "cell_type": "code",
   "execution_count": 13,
   "id": "c996806c",
   "metadata": {},
   "outputs": [
    {
     "name": "stdout",
     "output_type": "stream",
     "text": [
      "False\n",
      "True\n"
     ]
    }
   ],
   "source": [
    "# 8. startsWith() and endsWith()\n",
    "\n",
    "str1 = 'Hello world'\n",
    "print(str1.startswith('world'))\n",
    "print(str1.endswith('world'))"
   ]
  },
  {
   "cell_type": "code",
   "execution_count": 14,
   "id": "a3ca4ad6",
   "metadata": {},
   "outputs": [
    {
     "name": "stdout",
     "output_type": "stream",
     "text": [
      "Hello \n"
     ]
    }
   ],
   "source": [
    "# 9. Trimming strings with strip()\n",
    "\n",
    "str1 = 'Hello world'\n",
    "print(str1.strip('world'))"
   ]
  },
  {
   "cell_type": "code",
   "execution_count": 16,
   "id": "6a2b4d4f",
   "metadata": {},
   "outputs": [
    {
     "name": "stdout",
     "output_type": "stream",
     "text": [
      "Hello python\n"
     ]
    }
   ],
   "source": [
    "# 10. Replacing characters in strings with replace()\n",
    "\n",
    "str1 = 'Hello world'\n",
    "print(str1.replace('world','python'))"
   ]
  },
  {
   "cell_type": "code",
   "execution_count": 17,
   "id": "5355e253",
   "metadata": {},
   "outputs": [
    {
     "name": "stdout",
     "output_type": "stream",
     "text": [
      "['Hello', 'world']\n"
     ]
    }
   ],
   "source": [
    "# 11. Splitting strings with split()\n",
    "\n",
    "str1 = 'Hello world'\n",
    "print(str1.split())"
   ]
  },
  {
   "cell_type": "code",
   "execution_count": 20,
   "id": "1808f955",
   "metadata": {},
   "outputs": [
    {
     "name": "stdout",
     "output_type": "stream",
     "text": [
      "<class 'int'>\n",
      "<class 'str'>\n"
     ]
    }
   ],
   "source": [
    "# 12. Converting integer objects to Strings\n",
    "\n",
    "num = 1\n",
    "print(type(num))\n",
    "num = str(num) # Converting integer objects to Strings\n",
    "print(type(num))"
   ]
  },
  {
   "cell_type": "code",
   "execution_count": 22,
   "id": "717938c1",
   "metadata": {},
   "outputs": [
    {
     "name": "stdout",
     "output_type": "stream",
     "text": [
      "hello world\n",
      "HELLO WORLD\n"
     ]
    }
   ],
   "source": [
    "# 13. Converting to uppercase and lowercase\n",
    "\n",
    "str1 = 'Hello world'\n",
    "print(str1.lower())\n",
    "print(str1.upper())"
   ]
  }
 ],
 "metadata": {
  "kernelspec": {
   "display_name": "Python 3",
   "language": "python",
   "name": "python3"
  },
  "language_info": {
   "codemirror_mode": {
    "name": "ipython",
    "version": 3
   },
   "file_extension": ".py",
   "mimetype": "text/x-python",
   "name": "python",
   "nbconvert_exporter": "python",
   "pygments_lexer": "ipython3",
   "version": "3.8.8"
  }
 },
 "nbformat": 4,
 "nbformat_minor": 5
}
