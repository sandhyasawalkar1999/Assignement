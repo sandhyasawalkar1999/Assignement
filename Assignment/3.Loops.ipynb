{
 "cells": [
  {
   "cell_type": "code",
   "execution_count": 2,
   "id": "35ec28a3",
   "metadata": {},
   "outputs": [
    {
     "name": "stdout",
     "output_type": "stream",
     "text": [
      "Bright IT Career\n",
      "Bright IT Career\n",
      "Bright IT Career\n",
      "Bright IT Career\n",
      "Bright IT Career\n",
      "Bright IT Career\n",
      "Bright IT Career\n",
      "Bright IT Career\n",
      "Bright IT Career\n",
      "Bright IT Career\n"
     ]
    }
   ],
   "source": [
    "# 1. Write a program to print “Bright IT Career” ten times using for loop\n",
    "\n",
    "for i in range(0,10):\n",
    "    print(\"Bright IT Career\")"
   ]
  },
  {
   "cell_type": "code",
   "execution_count": 4,
   "id": "52d13e28",
   "metadata": {},
   "outputs": [
    {
     "name": "stdout",
     "output_type": "stream",
     "text": [
      "1\n",
      "2\n",
      "3\n",
      "4\n",
      "5\n",
      "6\n",
      "7\n",
      "8\n",
      "9\n",
      "10\n",
      "11\n",
      "12\n",
      "13\n",
      "14\n",
      "15\n",
      "16\n",
      "17\n",
      "18\n",
      "19\n",
      "20\n"
     ]
    }
   ],
   "source": [
    "# 2. Write a Python program to print 1 to 20 numbers using the while loop.\n",
    "\n",
    "num = 1\n",
    "while num <= 20:\n",
    "    print(num)\n",
    "    num += 1"
   ]
  },
  {
   "cell_type": "code",
   "execution_count": 5,
   "id": "d77c3a19",
   "metadata": {},
   "outputs": [
    {
     "name": "stdout",
     "output_type": "stream",
     "text": [
      "equal operater : False\n",
      "not equal operater : True\n"
     ]
    }
   ],
   "source": [
    "# 3. Program to equal operator and not equal operators\n",
    "\n",
    "a = 10\n",
    "b = 20\n",
    "\n",
    "print(\"equal operater :\",a == b)\n",
    "print(\"not equal operater :\",a != b)"
   ]
  },
  {
   "cell_type": "code",
   "execution_count": 9,
   "id": "18d163a7",
   "metadata": {},
   "outputs": [
    {
     "name": "stdout",
     "output_type": "stream",
     "text": [
      "Enter the number 10\n",
      "10 is even number\n"
     ]
    }
   ],
   "source": [
    "# 4. Write a program to print the odd and even numbers.\n",
    "\n",
    "num = int(input(\"Enter the number \"))\n",
    "\n",
    "if num % 2 == 0:\n",
    "    print(num,\"is even number\")\n",
    "else:\n",
    "    print(num,\"is odd number\")"
   ]
  },
  {
   "cell_type": "code",
   "execution_count": 12,
   "id": "7c12dbcd",
   "metadata": {},
   "outputs": [
    {
     "name": "stdout",
     "output_type": "stream",
     "text": [
      "Enter the first number 10\n",
      "Enter the secound number 30\n",
      "Enter the third number 20\n",
      "30 is largest number\n"
     ]
    }
   ],
   "source": [
    "# 5. Write a program to print largest number among three numbers.\n",
    "num1 = int(input(\"Enter the first number \"))\n",
    "num2 = int(input(\"Enter the secound number \"))\n",
    "num3 = int(input(\"Enter the third number \"))\n",
    "\n",
    "if num1 > num2 and num1 > num3:\n",
    "    print(num1,\"is largest number\")\n",
    "elif num2 > num1 and num2 > num3:\n",
    "    print(num2,\"is largest number\")\n",
    "else:\n",
    "    print(num3,\"is largest number\")"
   ]
  },
  {
   "cell_type": "code",
   "execution_count": 13,
   "id": "e6a6fe97",
   "metadata": {},
   "outputs": [
    {
     "name": "stdout",
     "output_type": "stream",
     "text": [
      "10\n",
      "12\n",
      "14\n",
      "16\n",
      "18\n",
      "20\n"
     ]
    }
   ],
   "source": [
    "# 6. Write a program to print even number between 10 and 20 using while\n",
    "\n",
    "num = 10\n",
    "while num <= 20:\n",
    "    if(num % 2 == 0):\n",
    "        print(num)\n",
    "    num += 1"
   ]
  },
  {
   "cell_type": "code",
   "execution_count": 14,
   "id": "4a948d48",
   "metadata": {},
   "outputs": [
    {
     "name": "stdout",
     "output_type": "stream",
     "text": [
      "Enter a number: 407\n",
      "407 is an Armstrong number\n"
     ]
    }
   ],
   "source": [
    "# 8. Write a program to find Armstrong number or not\n",
    "\n",
    "num = int(input(\"Enter a number: \"))\n",
    "sum = 0\n",
    "\n",
    "# find the sum of the cube of each digit\n",
    "temp = num\n",
    "while temp > 0:\n",
    "   digit = temp % 10\n",
    "   sum += digit ** 3\n",
    "   temp //= 10\n",
    "\n",
    "if num == sum:\n",
    "   print(num,\"is an Armstrong number\")\n",
    "else:\n",
    "   print(num,\"is not an Armstrong number\")"
   ]
  },
  {
   "cell_type": "code",
   "execution_count": 25,
   "id": "85b53c4e",
   "metadata": {},
   "outputs": [
    {
     "name": "stdout",
     "output_type": "stream",
     "text": [
      "Enter the number 11\n",
      "11 is prime number\n"
     ]
    }
   ],
   "source": [
    "# 9. Write a program to find the prime or not.\n",
    "\n",
    "num = int(input(\"Enter the number \"))\n",
    "if num > 1:\n",
    "    for i in range(2,num):\n",
    "        if num % i == 0:\n",
    "            print(num,\"is not prime number\")\n",
    "            break\n",
    "    else:\n",
    "        print(num,\"is prime number\")\n",
    "else:\n",
    "    print(num,\"is not prime number\")"
   ]
  },
  {
   "cell_type": "code",
   "execution_count": 33,
   "id": "e409caa8",
   "metadata": {},
   "outputs": [
    {
     "name": "stdout",
     "output_type": "stream",
     "text": [
      "Enter the string Nitin\n",
      "nitin is palindrome\n"
     ]
    }
   ],
   "source": [
    "# 10. Write a program to palindrome or not.\n",
    "\n",
    "string = input(\"Enter the string \")\n",
    "string = string.lower()\n",
    "rstring = reversed(string)\n",
    "\n",
    "if list(string) == list(rstring):\n",
    "    print(string,\"is palindrome\")\n",
    "else:\n",
    "    print(string,\"is not palindrome\")"
   ]
  }
 ],
 "metadata": {
  "kernelspec": {
   "display_name": "Python 3",
   "language": "python",
   "name": "python3"
  },
  "language_info": {
   "codemirror_mode": {
    "name": "ipython",
    "version": 3
   },
   "file_extension": ".py",
   "mimetype": "text/x-python",
   "name": "python",
   "nbconvert_exporter": "python",
   "pygments_lexer": "ipython3",
   "version": "3.8.8"
  }
 },
 "nbformat": 4,
 "nbformat_minor": 5
}
