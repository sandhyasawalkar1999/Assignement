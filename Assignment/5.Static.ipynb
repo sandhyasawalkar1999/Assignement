{
 "cells": [
  {
   "cell_type": "code",
   "execution_count": 10,
   "id": "2004a726",
   "metadata": {},
   "outputs": [
    {
     "name": "stdout",
     "output_type": "stream",
     "text": [
      "9\n"
     ]
    }
   ],
   "source": [
    "# 1. Define a static variable and access that through a class\n",
    "\n",
    "class example:\n",
    "    staticVariable = 9 # Access through class\n",
    "\n",
    "print(example.staticVariable)"
   ]
  },
  {
   "cell_type": "code",
   "execution_count": 9,
   "id": "81278414",
   "metadata": {},
   "outputs": [
    {
     "name": "stdout",
     "output_type": "stream",
     "text": [
      "9\n"
     ]
    }
   ],
   "source": [
    "# 2. Define a static variable and access that through a instance\n",
    "\n",
    "class example:\n",
    "    staticVariable = 9\n",
    "\n",
    "#Access through an instance\n",
    "instance = example()\n",
    "print(instance.staticVariable)"
   ]
  },
  {
   "cell_type": "code",
   "execution_count": 7,
   "id": "800ec151",
   "metadata": {},
   "outputs": [
    {
     "name": "stdout",
     "output_type": "stream",
     "text": [
      "12\n"
     ]
    }
   ],
   "source": [
    "# 3. Define a static variable and change within the instance\n",
    "\n",
    "class example:\n",
    "    staticVariable = 9\n",
    "\n",
    "#Access through an instance\n",
    "instance = example()\n",
    "\n",
    "#Change within an instance\n",
    "instance.staticVariable = 12\n",
    "print(instance.staticVariable)"
   ]
  },
  {
   "cell_type": "code",
   "execution_count": 8,
   "id": "734ee3a3",
   "metadata": {},
   "outputs": [
    {
     "name": "stdout",
     "output_type": "stream",
     "text": [
      "12\n"
     ]
    }
   ],
   "source": [
    "# 4. Define a static variable and change within the class\n",
    "\n",
    "class example:\n",
    "    staticVariable = 9\n",
    "\n",
    "#Change within the class\n",
    "example.staticVariable = 12\n",
    "print(example.staticVariable)"
   ]
  }
 ],
 "metadata": {
  "kernelspec": {
   "display_name": "Python 3",
   "language": "python",
   "name": "python3"
  },
  "language_info": {
   "codemirror_mode": {
    "name": "ipython",
    "version": 3
   },
   "file_extension": ".py",
   "mimetype": "text/x-python",
   "name": "python",
   "nbconvert_exporter": "python",
   "pygments_lexer": "ipython3",
   "version": "3.8.8"
  }
 },
 "nbformat": 4,
 "nbformat_minor": 5
}
