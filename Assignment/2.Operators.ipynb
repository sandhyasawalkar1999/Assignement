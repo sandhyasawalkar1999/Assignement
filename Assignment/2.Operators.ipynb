{
 "cells": [
  {
   "cell_type": "code",
   "execution_count": 4,
   "id": "2e4060b7",
   "metadata": {},
   "outputs": [
    {
     "name": "stdout",
     "output_type": "stream",
     "text": [
      "Addition  30\n",
      "Subtraction  10\n",
      "Multipication  200\n",
      "Division  2.0\n"
     ]
    }
   ],
   "source": [
    "# 1. Write a function for arithmetic operators(+,-,*,/)\n",
    "\n",
    "a = 10\n",
    "b = 20\n",
    "\n",
    "# Addition\n",
    "print('Addition ',a+b)\n",
    "\n",
    "# Subtraction\n",
    "print('Subtraction ',b-a)\n",
    "\n",
    "# Multipication\n",
    "print('Multipication ',a*b)\n",
    "\n",
    "# Division\n",
    "print('Division ',b/a)"
   ]
  },
  {
   "cell_type": "code",
   "execution_count": 9,
   "id": "33fcf7cc",
   "metadata": {},
   "outputs": [
    {
     "name": "stdout",
     "output_type": "stream",
     "text": [
      "Now i is 1\n",
      "After i increment 2\n",
      "After i decrement 1\n"
     ]
    }
   ],
   "source": [
    "# 2. Write a method for increment and decrement operators(++, --)\n",
    "\n",
    "i = 1\n",
    "print('Now i is',i)\n",
    "i += 1\n",
    "print('After i increment',i)\n",
    "i -= 1\n",
    "print('After i decrement',i)"
   ]
  },
  {
   "cell_type": "code",
   "execution_count": 11,
   "id": "53c585d6",
   "metadata": {},
   "outputs": [
    {
     "name": "stdout",
     "output_type": "stream",
     "text": [
      "Number a and b is not equal\n"
     ]
    }
   ],
   "source": [
    "# 3. Write a program to find the two numbers equal or not.\n",
    "\n",
    "a = 10\n",
    "b = 20\n",
    "if (a == b):\n",
    "    print('Number a and b is equal')\n",
    "else:\n",
    "    print('Number a and b is not equal')"
   ]
  },
  {
   "cell_type": "code",
   "execution_count": 14,
   "id": "22def32a",
   "metadata": {},
   "outputs": [
    {
     "name": "stdout",
     "output_type": "stream",
     "text": [
      "a is less than b : True\n",
      "a is greater than b : False\n",
      "a is less than or equal to b : True\n",
      "a is greater than or equal to b : False\n"
     ]
    }
   ],
   "source": [
    "# 4. Program for relational operators (<,<==, >, >==)\n",
    "\n",
    "a = 10\n",
    "b = 20\n",
    "\n",
    "# checking a is less than b (<)\n",
    "print('a is less than b :',a<b)\n",
    "\n",
    "# checking a is greater than b (>)\n",
    "print('a is greater than b :',a>b)\n",
    "\n",
    "# checking a is less than or equal to b (<=)\n",
    "print('a is less than or equal to b :',a<=b)\n",
    "\n",
    "# checking a is greater than or equal to b (>=)\n",
    "print('a is greater than or equal to b :',a>=b)"
   ]
  },
  {
   "cell_type": "code",
   "execution_count": 19,
   "id": "8cd2d07f",
   "metadata": {},
   "outputs": [
    {
     "name": "stdout",
     "output_type": "stream",
     "text": [
      "Enter first number 10\n",
      "Enter secound number 20\n",
      "20 is larger number\n",
      "10 is smaller number\n"
     ]
    }
   ],
   "source": [
    "# 5. Print the smaller and larger number\n",
    "\n",
    "num1 = int(input('Enter first number '))\n",
    "num2 = int(input('Enter secound number '))\n",
    "\n",
    "if num1 > num2:\n",
    "    print(num1,'is larger number')\n",
    "    print(num2,'is smaller number')\n",
    "    \n",
    "elif num2 > num1:\n",
    "    print(num2,'is larger number')\n",
    "    print(num1,'is smaller number')"
   ]
  }
 ],
 "metadata": {
  "kernelspec": {
   "display_name": "Python 3",
   "language": "python",
   "name": "python3"
  },
  "language_info": {
   "codemirror_mode": {
    "name": "ipython",
    "version": 3
   },
   "file_extension": ".py",
   "mimetype": "text/x-python",
   "name": "python",
   "nbconvert_exporter": "python",
   "pygments_lexer": "ipython3",
   "version": "3.8.8"
  }
 },
 "nbformat": 4,
 "nbformat_minor": 5
}
