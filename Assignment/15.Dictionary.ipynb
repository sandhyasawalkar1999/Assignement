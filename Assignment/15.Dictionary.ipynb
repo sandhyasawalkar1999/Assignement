{
 "cells": [
  {
   "cell_type": "code",
   "execution_count": 1,
   "id": "cca5a656",
   "metadata": {},
   "outputs": [],
   "source": [
    "# 1. Create a Dictionary with at least 5 key value pairs of the Student ID and Name\n",
    "\n",
    "dic = {1:'sohan', 2:'vijaya', 3:'sanket', 4:'sakshi', 5:'abhishek'}"
   ]
  },
  {
   "cell_type": "code",
   "execution_count": 7,
   "id": "a362df3f",
   "metadata": {},
   "outputs": [
    {
     "name": "stdout",
     "output_type": "stream",
     "text": [
      "{1: 'sohan', 2: 'vijaya', 3: 'sanket', 4: 'sakshi', 5: 'abhishek', 6: 'mahesh'}\n"
     ]
    }
   ],
   "source": [
    "# 1.1. Adding the values in dictionary\n",
    "\n",
    "dic.update({6:'mahesh'})\n",
    "print(dic)"
   ]
  },
  {
   "cell_type": "code",
   "execution_count": 8,
   "id": "89a70528",
   "metadata": {},
   "outputs": [
    {
     "name": "stdout",
     "output_type": "stream",
     "text": [
      "{1: 'soham', 2: 'vijaya', 3: 'sanket', 4: 'sakshi', 5: 'abhishek', 6: 'mahesh'}\n"
     ]
    }
   ],
   "source": [
    "# 1.2. Updating the values in dictionary\n",
    "\n",
    "dic[1] = 'soham'\n",
    "print(dic)"
   ]
  },
  {
   "cell_type": "code",
   "execution_count": 9,
   "id": "7a405621",
   "metadata": {},
   "outputs": [
    {
     "name": "stdout",
     "output_type": "stream",
     "text": [
      "soham\n"
     ]
    }
   ],
   "source": [
    "# 1.3. Accessing the value in dictionary\n",
    "\n",
    "print(dic[1])"
   ]
  },
  {
   "cell_type": "code",
   "execution_count": 13,
   "id": "72d0d55e",
   "metadata": {},
   "outputs": [],
   "source": [
    "# 1.4. Create a nested loop dictionary\n",
    "\n",
    "dic2 = {1:{10:'math',20:'english'},2:{100:'pune',200:'mumbai'}}"
   ]
  },
  {
   "cell_type": "code",
   "execution_count": 19,
   "id": "87367360",
   "metadata": {},
   "outputs": [
    {
     "name": "stdout",
     "output_type": "stream",
     "text": [
      "math\n",
      "english\n",
      "pune\n",
      "mumbai\n"
     ]
    }
   ],
   "source": [
    "# 1.5. Access the values of nested loop dictionary\n",
    "\n",
    "for i in dic2:\n",
    "    for j in dic2[i]:\n",
    "        print(dic2[i][j])"
   ]
  },
  {
   "cell_type": "code",
   "execution_count": 21,
   "id": "31e4f9fb",
   "metadata": {},
   "outputs": [
    {
     "name": "stdout",
     "output_type": "stream",
     "text": [
      "dict_keys([1, 2])\n"
     ]
    }
   ],
   "source": [
    "# 1.6. Print the keys present in a particular dictionary\n",
    "\n",
    "print(dic2.keys())"
   ]
  },
  {
   "cell_type": "code",
   "execution_count": 24,
   "id": "70c50aa0",
   "metadata": {},
   "outputs": [
    {
     "name": "stdout",
     "output_type": "stream",
     "text": [
      "{1: {10: 'math', 20: 'english'}}\n"
     ]
    }
   ],
   "source": [
    "# 1.7. Delete a value from a dictionary\n",
    "\n",
    "dic2.popitem()\n",
    "print(dic2)"
   ]
  }
 ],
 "metadata": {
  "kernelspec": {
   "display_name": "Python 3",
   "language": "python",
   "name": "python3"
  },
  "language_info": {
   "codemirror_mode": {
    "name": "ipython",
    "version": 3
   },
   "file_extension": ".py",
   "mimetype": "text/x-python",
   "name": "python",
   "nbconvert_exporter": "python",
   "pygments_lexer": "ipython3",
   "version": "3.8.8"
  }
 },
 "nbformat": 4,
 "nbformat_minor": 5
}
